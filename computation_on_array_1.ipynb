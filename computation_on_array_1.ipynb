{
 "cells": [
  {
   "cell_type": "markdown",
   "id": "a6106660-bd3a-4b94-903e-d7951391031e",
   "metadata": {},
   "source": [
    "# Computation on Numpy Arrays (1): Universal Functions\n",
    "\n",
    "Computation on NumPy arrays can be very fast, or it can be very slow. The key to making it fast is to use vectorized operations, generally implemented through NumPy's *universal functions* (ufuncs). "
   ]
  },
  {
   "cell_type": "markdown",
   "id": "075e3cf5-832b-4978-9a05-f185d0b57627",
   "metadata": {},
   "source": [
    "## the Slowness of Loops\n",
    "Python's default implementation does some operations very slowly. This is partly due to the dynamic, imterpreted nature of th language; types are flexible, so sequenceds of operations cannot be compiled down to efficient machine code as in languages like C and Fortran. \n",
    "\n",
    "The relative sluggishness of Python generally manifests itself in situations where many small operations are being repeated; for instance, looping over arrays to operate on each element. For example, imagine we have an array of values and we'd like to compute the reciprocal of each. A straightforward approach might look like this:"
   ]
  },
  {
   "cell_type": "code",
   "execution_count": 1,
   "id": "bc3ada21-f825-49b7-9cc8-518ebe0e691d",
   "metadata": {},
   "outputs": [
    {
     "data": {
      "text/plain": [
       "array([0.11111111, 0.25      , 1.        , 0.33333333, 0.125     ])"
      ]
     },
     "execution_count": 1,
     "metadata": {},
     "output_type": "execute_result"
    }
   ],
   "source": [
    "import numpy as np\n",
    "rng = np.random.default_rng(seed=1701)\n",
    "\n",
    "def compute_reciprocals(values):\n",
    "    output = np.empty(len(values))\n",
    "    for i in range(len(values)):\n",
    "        output[i] = 1.0/ values[i]\n",
    "    return output\n",
    "\n",
    "values = rng.integers(1,10, size=5)\n",
    "compute_reciprocals(values)"
   ]
  },
  {
   "cell_type": "markdown",
   "id": "8e71d8ce-d7e3-4cf2-8ae7-5d52eb7d13dd",
   "metadata": {},
   "source": [
    "This implementation probably feels natural. But if we measure the execution time of this code for a large input, we see that this operation is very slow. We'll benchmark this with IPython's %timeit magic"
   ]
  },
  {
   "cell_type": "code",
   "execution_count": 2,
   "id": "7b3ed660-7979-47c6-a2b7-f2f4704d6421",
   "metadata": {},
   "outputs": [
    {
     "name": "stdout",
     "output_type": "stream",
     "text": [
      "681 ms ± 1.94 ms per loop (mean ± std. dev. of 7 runs, 1 loop each)\n"
     ]
    }
   ],
   "source": [
    "big_array = rng.integers(1,100, size=1000000)\n",
    "%timeit compute_reciprocals(big_array)"
   ]
  },
  {
   "cell_type": "markdown",
   "id": "e4fc375e-613a-4fd8-bc5b-8af352001c11",
   "metadata": {},
   "source": [
    "## Introducing Ufuncs\n",
    "\n",
    "For many types of operations, NumPy provides a convenient interface into just this kind of statically typed, compiled routine. This is known as a *vectorized* operation. \n",
    "\n",
    "For simple operations like the element-wise division here, vectorization is as simple as using Python arithmetic operators directly on the array object. This vectorized approach is designed to push the loop into the complied layer that underlies NumPy, leading to much faster execution."
   ]
  },
  {
   "cell_type": "code",
   "execution_count": 3,
   "id": "cb79fd88-d12f-40ec-9724-ca0130722d2b",
   "metadata": {},
   "outputs": [
    {
     "name": "stdout",
     "output_type": "stream",
     "text": [
      "[0.11111111 0.25       1.         0.33333333 0.125     ]\n",
      "[0.11111111 0.25       1.         0.33333333 0.125     ]\n"
     ]
    }
   ],
   "source": [
    "print(compute_reciprocals(values))\n",
    "print(1.0 / values)"
   ]
  },
  {
   "cell_type": "markdown",
   "id": "0ea1d784-ba42-46bf-a769-4591056a84d5",
   "metadata": {},
   "source": [
    "Looking at the execution time for our big array, we see that it completes orders of magnitude faster than the Python loop:"
   ]
  },
  {
   "cell_type": "code",
   "execution_count": 6,
   "id": "5bbb571b-fceb-4a32-b659-3114dcab244d",
   "metadata": {},
   "outputs": [
    {
     "name": "stdout",
     "output_type": "stream",
     "text": [
      "980 μs ± 29 μs per loop (mean ± std. dev. of 7 runs, 1,000 loops each)\n"
     ]
    }
   ],
   "source": [
    "%timeit (1.0/big_array)"
   ]
  },
  {
   "cell_type": "markdown",
   "id": "d17d2fd3-2c7c-4dfb-8fb6-886c1c16328b",
   "metadata": {},
   "source": [
    "Vectorized operations in NumPy are implemented via ufuncs, whose main purpose is to quickly execute repeated operations on values in NumPy arrays. Ufuncs are extremely flexible -- before we saw an operation between a scalar and an array, but we can also operate between two arrays:"
   ]
  },
  {
   "cell_type": "code",
   "execution_count": 7,
   "id": "8bf7fb9a-f756-4206-a244-6b09d76f5152",
   "metadata": {},
   "outputs": [
    {
     "data": {
      "text/plain": [
       "array([0.        , 0.5       , 0.66666667, 0.75      , 0.8       ])"
      ]
     },
     "execution_count": 7,
     "metadata": {},
     "output_type": "execute_result"
    }
   ],
   "source": [
    "np.arange(5)/np.arange(1,6)"
   ]
  },
  {
   "cell_type": "markdown",
   "id": "d8359dae-3984-4680-acf5-11c1eb97f76d",
   "metadata": {},
   "source": [
    "And Ufunc operations are not limited to one-dimentional arrays. They can act on multidimensional arrays as well"
   ]
  },
  {
   "cell_type": "code",
   "execution_count": 8,
   "id": "1b7b342d-10d6-4876-b751-92d9eda95521",
   "metadata": {},
   "outputs": [
    {
     "data": {
      "text/plain": [
       "array([[  1,   2,   4],\n",
       "       [  8,  16,  32],\n",
       "       [ 64, 128, 256]])"
      ]
     },
     "execution_count": 8,
     "metadata": {},
     "output_type": "execute_result"
    }
   ],
   "source": [
    "x = np.arange(9).reshape((3,3))\n",
    "2**x"
   ]
  },
  {
   "cell_type": "markdown",
   "id": "7915cfd6-1553-4a37-a2e8-558af86aacea",
   "metadata": {},
   "source": [
    "Computations using vectorization through ufuncs are nearly always more efficient thant their counterparts implemented using Python loops, especially as the arrays grow in size. Any time you see such a lop in a NumPy script, you should consider wehether it can be replaced with a vectorized expression."
   ]
  },
  {
   "cell_type": "markdown",
   "id": "f7fb8af3-eec6-4399-aec3-22878241493e",
   "metadata": {},
   "source": [
    "## Exploring NumPy's Ufuncs\n",
    "\n",
    "### Array Arithmetic\n",
    "\n",
    "NumPy's ufuncs feel very natural to use because they make use of Python's native arithmetic operators. The standard daddition, subtraction, multiplication and division can all be used.\n"
   ]
  },
  {
   "cell_type": "code",
   "execution_count": 2,
   "id": "4f8e0889-2f05-4c6e-bb84-6b5e7ed6f6f6",
   "metadata": {},
   "outputs": [
    {
     "name": "stdout",
     "output_type": "stream",
     "text": [
      "x      = [0 1 2 3]\n",
      "x + 5  = [5 6 7 8]\n",
      "x - 5  = [-5 -4 -3 -2]\n",
      "x * 2  = [0 2 4 6]\n",
      "x / 2  = [0.  0.5 1.  1.5]\n",
      "x // 2 = [0 0 1 1]\n"
     ]
    }
   ],
   "source": [
    "import numpy as np\n",
    "x = np.arange(4)\n",
    "print(\"x      =\", x)\n",
    "print(\"x + 5  =\", x + 5)\n",
    "print(\"x - 5  =\", x - 5)\n",
    "print(\"x * 2  =\", x * 2)\n",
    "print(\"x / 2  =\", x / 2)\n",
    "print(\"x // 2 =\", x // 2)  # floor division"
   ]
  },
  {
   "cell_type": "code",
   "execution_count": 3,
   "id": "12b8a2c7-5204-4c30-aed1-4b2d40f1174c",
   "metadata": {},
   "outputs": [
    {
     "name": "stdout",
     "output_type": "stream",
     "text": [
      "-x     =  [ 0 -1 -2 -3]\n",
      "x ** 2 =  [0 1 4 9]\n",
      "x % 2  =  [0 1 0 1]\n"
     ]
    }
   ],
   "source": [
    "print(\"-x     = \", -x)\n",
    "print(\"x ** 2 = \", x ** 2)\n",
    "print(\"x % 2  = \", x % 2)"
   ]
  },
  {
   "cell_type": "markdown",
   "id": "94a6626d-1d09-4a60-989c-6a9a7e9e0cc5",
   "metadata": {},
   "source": [
    "In addition, these can be strung together however you wish, and the standard order of operations is respected:"
   ]
  },
  {
   "cell_type": "code",
   "execution_count": 4,
   "id": "6af6d834-e5ca-4e37-84b2-b90c4153de73",
   "metadata": {},
   "outputs": [
    {
     "data": {
      "text/plain": [
       "array([-1.  , -2.25, -4.  , -6.25])"
      ]
     },
     "execution_count": 4,
     "metadata": {},
     "output_type": "execute_result"
    }
   ],
   "source": [
    "-(0.5*x + 1) ** 2"
   ]
  },
  {
   "cell_type": "markdown",
   "id": "5b7cbc70-587e-4968-b830-0d44ff71cd35",
   "metadata": {},
   "source": [
    "All of these arithmetic operations are simply convenient wrappers around specific ufuncs built into NumPy. For example, the `+` operator is a wrapper for the `add` ufunc:"
   ]
  },
  {
   "cell_type": "code",
   "execution_count": 5,
   "id": "ad5583e4-ff03-4335-9ebf-0c68d11c0bb9",
   "metadata": {},
   "outputs": [
    {
     "data": {
      "text/plain": [
       "array([2, 3, 4, 5])"
      ]
     },
     "execution_count": 5,
     "metadata": {},
     "output_type": "execute_result"
    }
   ],
   "source": [
    "np.add(x,2)"
   ]
  },
  {
   "cell_type": "markdown",
   "id": "0098c607-6e97-431d-bfc5-bbcf8f9c7ca9",
   "metadata": {},
   "source": [
    "The following table lists the arithmetic operators implemented in NumPy:\n",
    "\n",
    "| Operator    | Equivalent ufunc  | Description                         |\n",
    "|-------------|-------------------|-------------------------------------|\n",
    "|`+`          |`np.add`           |Addition (e.g., `1 + 1 = 2`)         |\n",
    "|`-`          |`np.subtract`      |Subtraction (e.g., `3 - 2 = 1`)      |\n",
    "|`-`          |`np.negative`      |Unary negation (e.g., `-2`)          |\n",
    "|`*`          |`np.multiply`      |Multiplication (e.g., `2 * 3 = 6`)   |\n",
    "|`/`          |`np.divide`        |Division (e.g., `3 / 2 = 1.5`)       |\n",
    "|`//`         |`np.floor_divide`  |Floor division (e.g., `3 // 2 = 1`)  |\n",
    "|`**`         |`np.power`         |Exponentiation (e.g., `2 ** 3 = 8`)  |\n",
    "|`%`          |`np.mod`           |Modulus/remainder (e.g., `9 % 4 = 1`)|\n",
    "\n",
    "Additionally, there are Boolean/bitwise operators; we will explore these in [Comparisons, Masks, and Boolean Logic](02.06-Boolean-Arrays-and-Masks.ipynb)."
   ]
  },
  {
   "cell_type": "markdown",
   "id": "b3fed25b-1fba-4ad3-90ae-8462be5afefe",
   "metadata": {},
   "source": [
    "### Trigonometric Functions\n",
    "\n",
    "We'll start by defining an array of angles:"
   ]
  },
  {
   "cell_type": "code",
   "execution_count": 11,
   "id": "7e79ddb4-dc3d-4fb1-af8b-090b16b2408a",
   "metadata": {},
   "outputs": [
    {
     "name": "stdout",
     "output_type": "stream",
     "text": [
      "[1.    2.071 3.142]\n"
     ]
    }
   ],
   "source": [
    "theta = np.linspace(1, np.pi, 3)\n",
    "np.set_printoptions(precision=3)\n",
    "print(theta)"
   ]
  },
  {
   "cell_type": "code",
   "execution_count": 10,
   "id": "f81cc92a-38b5-4641-aae4-43c0284cf9f7",
   "metadata": {},
   "outputs": [
    {
     "name": "stdout",
     "output_type": "stream",
     "text": [
      "theta      =  [1.     2.0708 3.1416]\n",
      "sin(theta) =  [8.4147e-01 8.7758e-01 1.2246e-16]\n",
      "cos(theta) =  [ 0.5403 -0.4794 -1.    ]\n",
      "tan(theta) =  [ 1.5574e+00 -1.8305e+00 -1.2246e-16]\n"
     ]
    }
   ],
   "source": [
    "print(\"theta      = \", theta)\n",
    "print(\"sin(theta) = \", np.sin(theta))\n",
    "print(\"cos(theta) = \", np.cos(theta))\n",
    "print(\"tan(theta) = \", np.tan(theta))"
   ]
  },
  {
   "cell_type": "markdown",
   "id": "c3d00991-d963-475f-b84d-ba235f4b41ea",
   "metadata": {},
   "source": [
    "### Exponents and Logarithms"
   ]
  },
  {
   "cell_type": "code",
   "execution_count": 12,
   "id": "74a7811e-ca4a-4b52-ac65-3bcb1eb2ea75",
   "metadata": {},
   "outputs": [
    {
     "name": "stdout",
     "output_type": "stream",
     "text": [
      "x   = [1, 2, 3]\n",
      "e^x = [ 2.718  7.389 20.086]\n",
      "2^x = [2. 4. 8.]\n",
      "3^x = [ 3.  9. 27.]\n"
     ]
    }
   ],
   "source": [
    "x = [1, 2, 3]\n",
    "print(\"x   =\", x)\n",
    "print(\"e^x =\", np.exp(x))\n",
    "print(\"2^x =\", np.exp2(x))\n",
    "print(\"3^x =\", np.power(3., x))"
   ]
  },
  {
   "cell_type": "markdown",
   "id": "39919ea2-7205-437a-97c0-6b9edbdee2f2",
   "metadata": {},
   "source": [
    "The inverse of the exponentials, the logarithms, are also available.\n",
    "The basic `np.log` gives the natural logarithm; if you prefer to compute the base-2 logarithm or the base-10 logarithm, these are available as well:"
   ]
  },
  {
   "cell_type": "code",
   "execution_count": 13,
   "id": "3e450162-90cd-4062-8bf1-6c85ea207043",
   "metadata": {},
   "outputs": [
    {
     "name": "stdout",
     "output_type": "stream",
     "text": [
      "x        = [1, 2, 4, 10]\n",
      "ln(x)    = [0.    0.693 1.386 2.303]\n",
      "log2(x)  = [0.    1.    2.    3.322]\n",
      "log10(x) = [0.    0.301 0.602 1.   ]\n"
     ]
    }
   ],
   "source": [
    "x = [1, 2, 4, 10]\n",
    "print(\"x        =\", x)\n",
    "print(\"ln(x)    =\", np.log(x))\n",
    "print(\"log2(x)  =\", np.log2(x))\n",
    "print(\"log10(x) =\", np.log10(x))"
   ]
  },
  {
   "cell_type": "code",
   "execution_count": null,
   "id": "83ff9dfa-b07b-4152-8bac-19535487e97c",
   "metadata": {},
   "outputs": [],
   "source": []
  }
 ],
 "metadata": {
  "kernelspec": {
   "display_name": "Python 3 (ipykernel)",
   "language": "python",
   "name": "python3"
  },
  "language_info": {
   "codemirror_mode": {
    "name": "ipython",
    "version": 3
   },
   "file_extension": ".py",
   "mimetype": "text/x-python",
   "name": "python",
   "nbconvert_exporter": "python",
   "pygments_lexer": "ipython3",
   "version": "3.12.3"
  }
 },
 "nbformat": 4,
 "nbformat_minor": 5
}
