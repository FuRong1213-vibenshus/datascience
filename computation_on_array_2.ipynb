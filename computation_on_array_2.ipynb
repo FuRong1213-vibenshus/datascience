{
 "cells": [
  {
   "cell_type": "markdown",
   "id": "b2519e27-20a9-4064-806f-3ace5cfaf0e9",
   "metadata": {},
   "source": [
    "# Functional programming \n",
    "\n"
   ]
  },
  {
   "cell_type": "markdown",
   "id": "7d63e4c4-6382-4be5-94b2-de8cae6c7940",
   "metadata": {},
   "source": [
    "## [numpy.apply_along_axis(func1d, axis, arr, *args, **kwargs)](https://numpy.org/devdocs//reference/generated/numpy.apply_along_axis.html)\n",
    "Apply a function to 1-D slices along the given axis."
   ]
  },
  {
   "cell_type": "code",
   "execution_count": 2,
   "id": "ff919225-5d6d-40ce-89ef-4f025ac1e4eb",
   "metadata": {},
   "outputs": [
    {
     "name": "stdout",
     "output_type": "stream",
     "text": [
      "[[0 1 2]\n",
      " [3 4 5]\n",
      " [6 7 8]]\n"
     ]
    },
    {
     "data": {
      "text/plain": [
       "array([3., 4., 5.])"
      ]
     },
     "execution_count": 2,
     "metadata": {},
     "output_type": "execute_result"
    }
   ],
   "source": [
    "import numpy as np\n",
    "\n",
    "def my_func(a):\n",
    "    \"\"\" Average first and last element of a 1-D array \"\"\"\n",
    "    return (a[0] + a[-1])*0.5\n",
    "\n",
    "b = np.arange(9).reshape((3,3))\n",
    "print(b)\n",
    "np.apply_along_axis(my_func, 0, b)"
   ]
  },
  {
   "cell_type": "code",
   "execution_count": 4,
   "id": "d16af114-b040-421a-ab92-9aa8879e2eea",
   "metadata": {},
   "outputs": [
    {
     "data": {
      "text/plain": [
       "array([1., 4., 7.])"
      ]
     },
     "execution_count": 4,
     "metadata": {},
     "output_type": "execute_result"
    }
   ],
   "source": [
    "np.apply_along_axis(my_func, 1, b)"
   ]
  },
  {
   "cell_type": "code",
   "execution_count": 5,
   "id": "7d10ee3d-8a58-4c07-8e0e-234cabe0ca80",
   "metadata": {},
   "outputs": [
    {
     "data": {
      "text/plain": [
       "array([[1, 7, 8],\n",
       "       [3, 4, 9],\n",
       "       [2, 5, 6]])"
      ]
     },
     "execution_count": 5,
     "metadata": {},
     "output_type": "execute_result"
    }
   ],
   "source": [
    "b = np.array([[8,1,7], [4,3,9], [5,2,6]])\n",
    "np.apply_along_axis(sorted, 1, b)"
   ]
  },
  {
   "cell_type": "markdown",
   "id": "f86b7df3-cde1-42ba-b0dc-8ca671ac97e0",
   "metadata": {},
   "source": [
    "see also [apply_over_axes](https://numpy.org/devdocs//reference/generated/numpy.apply_over_axes.html#numpy.apply_over_axes)"
   ]
  },
  {
   "cell_type": "markdown",
   "id": "483e863d-5df7-4b28-bad1-1784e5ed9a42",
   "metadata": {},
   "source": [
    "## [numpy.piecewise(x, condlist, funclist, *args, **kw)](https://numpy.org/devdocs//reference/generated/numpy.piecewise.html)\n",
    "\n",
    "Evaluate a piecewise-defined function.\n",
    "\n",
    "Given a set of conditions and corresponding functions, evaluate each function on the input data wherever its condition is true."
   ]
  },
  {
   "cell_type": "code",
   "execution_count": 7,
   "id": "da398be5-4e16-416e-863a-6aabf93cab0a",
   "metadata": {},
   "outputs": [
    {
     "data": {
      "text/plain": [
       "array([-1., -1., -1.,  1.,  1.,  1.])"
      ]
     },
     "execution_count": 7,
     "metadata": {},
     "output_type": "execute_result"
    }
   ],
   "source": [
    "x = np.linspace(-2.5, 2.5, 6)\n",
    "np.piecewise(x, [x<0, x>=0], [-1, 1])"
   ]
  },
  {
   "cell_type": "code",
   "execution_count": 8,
   "id": "c094cb9e-9b71-46cc-b360-25a9c78e8095",
   "metadata": {},
   "outputs": [
    {
     "data": {
      "text/plain": [
       "array([2.5, 1.5, 0.5, 0.5, 1.5, 2.5])"
      ]
     },
     "execution_count": 8,
     "metadata": {},
     "output_type": "execute_result"
    }
   ],
   "source": [
    "np.piecewise(x, [x<0, x>=0], [lambda x: -x, lambda x:x])"
   ]
  },
  {
   "cell_type": "code",
   "execution_count": null,
   "id": "2fdfb52e-9dcc-4da9-ae09-28895835d112",
   "metadata": {},
   "outputs": [],
   "source": []
  }
 ],
 "metadata": {
  "kernelspec": {
   "display_name": "Python 3 (ipykernel)",
   "language": "python",
   "name": "python3"
  },
  "language_info": {
   "codemirror_mode": {
    "name": "ipython",
    "version": 3
   },
   "file_extension": ".py",
   "mimetype": "text/x-python",
   "name": "python",
   "nbconvert_exporter": "python",
   "pygments_lexer": "ipython3",
   "version": "3.12.3"
  }
 },
 "nbformat": 4,
 "nbformat_minor": 5
}
