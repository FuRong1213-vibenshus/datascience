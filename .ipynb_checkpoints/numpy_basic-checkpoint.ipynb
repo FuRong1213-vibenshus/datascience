{
 "cells": [
  {
   "cell_type": "markdown",
   "id": "de1e35ec",
   "metadata": {},
   "source": [
    "Connected to .venv (Python 3.12.3)"
   ]
  },
  {
   "cell_type": "markdown",
   "id": "54da0bfc-47f3-4053-ba99-1c2d63f4ef12",
   "metadata": {},
   "source": [
    "# The basic of NumPy Arrays\n",
    "\n",
    "    \n",
    "    This chapter will present several examples of using NumPy array manipulation to access data and subarrays, and to split, reshape, and join the arrays.\n",
    "    While the types of operations shown here may seem a bit dry and pedantic, they comprise the building blocks of many other examples using throughout the data analysis topic.\n",
    "\n",
    "We'll cover a few categories of basic array manipulations here:\n",
    "    \n",
    "- *Attributes of arrays*: Determining the size, shape, memory consumption, and data types of arrays\n",
    "- *Indexing of arrays*: Getting and setting the values of individual array elements\n",
    "- *Slicing of arrays*: Getting and setting smaller subarrays within a larger array\n",
    "- *Joining and splitting of arrays*: Combining multiple arrays into one, and splitting one array into many"
   ]
  },
  {
   "cell_type": "markdown",
   "id": "c1dec1e1-577b-45ba-9474-72ca583415b3",
   "metadata": {},
   "source": [
    "## NumPy Array Attributes"
   ]
  },
  {
   "cell_type": "code",
   "execution_count": 3,
   "id": "f8cb2de0-e6a9-4b0a-966b-10c27a257452",
   "metadata": {},
   "outputs": [],
   "source": [
    "import numpy as np \n",
    "\n",
    "rng = np.random.default_rng(seed=1701)\n",
    "x1 = rng.integers(10, size=6) # One-dimentional array\n",
    "x2 = rng.integers(10, size=(3,4)) # two-dimentional array\n",
    "x3 = rng.integers(10, size=(3,4,5)) # three-dimentional array"
   ]
  },
  {
   "cell_type": "markdown",
   "id": "84c4565d-342f-42ab-a4ab-e54bd2370d57",
   "metadata": {},
   "source": [
    "Each array has attributes including **ndim** (the number of dimentions), **shape** (the size of each dimention), **size** (the total size of the array), and **dtype** (the type of each element)"
   ]
  },
  {
   "cell_type": "code",
   "execution_count": null,
   "id": "01a96c69-8635-429c-b088-bb95e3893eae",
   "metadata": {},
   "outputs": [],
   "source": [
    "print(\"x3 ndim: \", x3.ndim)\n",
    "print(\"x3 shape:\", x3.shape)\n",
    "print(\"x3 size: \", x3.size)\n",
    "print(\"dtype:   \", x3.dtype)"
   ]
  },
  {
   "cell_type": "markdown",
   "id": "1103cbed-c075-4889-8fff-de2c2751659d",
   "metadata": {},
   "source": [
    "## Array Indexing: Accessing Single Elements\n",
    "\n",
    "In a one-dimentional array, the $i^{th}$ value (counting from zero) can be accessed by specifying the desired index in square brackets, just as with Python lists:"
   ]
  },
  {
   "cell_type": "code",
   "execution_count": 4,
   "id": "b36c4707-4267-4a65-b4f6-110c63837791",
   "metadata": {},
   "outputs": [
    {
     "data": {
      "text/plain": [
       "array([9, 4, 0, 3, 8, 6])"
      ]
     },
     "execution_count": 4,
     "metadata": {},
     "output_type": "execute_result"
    }
   ],
   "source": [
    "x1"
   ]
  },
  {
   "cell_type": "code",
   "execution_count": null,
   "id": "1d190ac4-e957-4aff-88a7-984aca95aba6",
   "metadata": {},
   "outputs": [],
   "source": [
    "x1[0]"
   ]
  },
  {
   "cell_type": "code",
   "execution_count": null,
   "id": "6922d210-1ad6-40a7-b57c-1556e1df2091",
   "metadata": {},
   "outputs": [],
   "source": [
    "x1[4]"
   ]
  },
  {
   "cell_type": "markdown",
   "id": "46074970-3844-4318-bf71-73f0e3f30f7a",
   "metadata": {},
   "source": [
    "To index from the end of the array, you can use negative indices:"
   ]
  },
  {
   "cell_type": "code",
   "execution_count": null,
   "id": "00f1eae4-2066-4847-bd75-6dd0b0545a47",
   "metadata": {},
   "outputs": [],
   "source": [
    "x1[-1]"
   ]
  },
  {
   "cell_type": "code",
   "execution_count": null,
   "id": "b0ef1f3e-3562-4a8c-9cfb-767b6b277f20",
   "metadata": {},
   "outputs": [],
   "source": [
    "x1[-2]"
   ]
  },
  {
   "cell_type": "markdown",
   "id": "23431032-0432-40bd-9eaa-48cddae74ce8",
   "metadata": {},
   "source": [
    "In a multidimentional array, items can be accessed using a comma-separated (row, column) tuple:"
   ]
  },
  {
   "cell_type": "code",
   "execution_count": null,
   "id": "63c2049c-ad1e-41aa-8b1b-11e793a330a7",
   "metadata": {
    "jp-MarkdownHeadingCollapsed": true
   },
   "outputs": [],
   "source": [
    "x2"
   ]
  },
  {
   "cell_type": "code",
   "execution_count": null,
   "id": "e3af0a19-0848-4827-bdc5-0b3a653f4f24",
   "metadata": {},
   "outputs": [],
   "source": [
    "x2[0,0]"
   ]
  },
  {
   "cell_type": "code",
   "execution_count": null,
   "id": "07567bf6-1701-4240-8735-3f8bdde3db17",
   "metadata": {},
   "outputs": [],
   "source": [
    "x2[2,-1]"
   ]
  },
  {
   "cell_type": "markdown",
   "id": "9af93ea3-f706-4135-92cc-3f639605bc25",
   "metadata": {},
   "source": [
    "Values can also be modified using any of the preceding index notation:"
   ]
  },
  {
   "cell_type": "code",
   "execution_count": null,
   "id": "792c6dd8-5ee5-4a27-bd75-37d205ff61eb",
   "metadata": {},
   "outputs": [],
   "source": [
    "x2[0,0] = 12\n",
    "x2"
   ]
  },
  {
   "cell_type": "markdown",
   "id": "a073011e-c484-4b08-978a-d6a6831e5989",
   "metadata": {},
   "source": [
    "Keep in mind that, unlike Python lists, NumPy arrays have a fixed type. This means, for example, that if you attempt to insert a floating-point value into an integer array, the value will be silently truncated. "
   ]
  },
  {
   "cell_type": "code",
   "execution_count": 6,
   "id": "bfc5193a-f3b6-41a5-a741-bf0142519586",
   "metadata": {},
   "outputs": [
    {
     "data": {
      "text/plain": [
       "array([3, 4, 0, 3, 8, 6])"
      ]
     },
     "execution_count": 6,
     "metadata": {},
     "output_type": "execute_result"
    }
   ],
   "source": [
    "x1[0] = 3.14159\n",
    "x1"
   ]
  },
  {
   "cell_type": "markdown",
   "id": "bf54ac11-65cc-4a82-a9af-9a576d782c18",
   "metadata": {},
   "source": [
    "## Array Slicing: Accessing subarrays\n",
    "\n",
    "Just as we can use square brackets to access individual array elements, we can also use them to access subarrays with the *slice* notation, marked by the colon (`:`) character. The NumPy slicing symtax follows that of the standard Python list; to access a slice of an array `x`, using this:\n",
    "\n",
    "$x[start:stop:step]$\n",
    "\n",
    "If any of these are unspecified, the default values are `start =0`, `stop=<size of dimention>`, `step=1`."
   ]
  },
  {
   "cell_type": "markdown",
   "id": "2f05dd46-cf1b-4447-a633-ed5a0d8a26ca",
   "metadata": {},
   "source": [
    "### One-Dimentional Subarrays\n",
    "\n",
    "Here are some examples of accessing elements in one-dimentional subarrays:"
   ]
  },
  {
   "cell_type": "code",
   "execution_count": null,
   "id": "c8bcc043-1e43-43b0-94df-c5dcf16c8028",
   "metadata": {},
   "outputs": [],
   "source": [
    "x1"
   ]
  },
  {
   "cell_type": "code",
   "execution_count": null,
   "id": "80583953-4e50-4962-b1c6-3bd89e26e384",
   "metadata": {},
   "outputs": [],
   "source": [
    "x1[:3]"
   ]
  },
  {
   "cell_type": "code",
   "execution_count": null,
   "id": "a4771617-4076-415a-a6f8-48b3fa67ce6e",
   "metadata": {},
   "outputs": [],
   "source": [
    "x1[3:]"
   ]
  },
  {
   "cell_type": "code",
   "execution_count": null,
   "id": "056dd1b8-394e-47a9-85c7-4fe7b1ad6cc6",
   "metadata": {},
   "outputs": [],
   "source": [
    "x1[1:4]"
   ]
  },
  {
   "cell_type": "code",
   "execution_count": null,
   "id": "343e425c-2bed-4595-b330-9ac924679ad2",
   "metadata": {},
   "outputs": [],
   "source": [
    "x1[::2]"
   ]
  },
  {
   "cell_type": "code",
   "execution_count": null,
   "id": "20507f3e-1a45-44a8-b742-97be8c14825f",
   "metadata": {},
   "outputs": [],
   "source": [
    "x1[1::2]"
   ]
  },
  {
   "cell_type": "markdown",
   "id": "c3cf1ca4-4971-4fb5-b49e-779d3c98d1fc",
   "metadata": {},
   "source": [
    "When the `step` value is negative, the defaults for `start` and `stop` are swapped. This becomes a convenient way to reverse an array."
   ]
  },
  {
   "cell_type": "code",
   "execution_count": null,
   "id": "f8479caf-df60-4e3e-a029-96f60683bbb2",
   "metadata": {},
   "outputs": [],
   "source": [
    "x1[::1]"
   ]
  },
  {
   "cell_type": "code",
   "execution_count": null,
   "id": "e52e7221-5155-42c9-93e0-6fbba682649b",
   "metadata": {},
   "outputs": [],
   "source": [
    "x1[4::2]"
   ]
  },
  {
   "cell_type": "markdown",
   "id": "5606d558-d398-42a0-b815-9e0c76c3c05a",
   "metadata": {},
   "source": [
    "### Multidimensional Subarrays\n",
    "\n",
    "Multidimentional slices work in the same way, with multiple slices separated by `commas`. "
   ]
  },
  {
   "cell_type": "code",
   "execution_count": null,
   "id": "09d136c5-4546-472c-b5d9-d7c6cb691454",
   "metadata": {},
   "outputs": [],
   "source": [
    "x2"
   ]
  },
  {
   "cell_type": "code",
   "execution_count": null,
   "id": "c5a36bde-0d0c-479c-8d10-c9eedce75b21",
   "metadata": {},
   "outputs": [],
   "source": [
    "x2[:2,:3] "
   ]
  },
  {
   "cell_type": "code",
   "execution_count": null,
   "id": "16292687-52b3-40f9-a2a1-ef1fc67e6ec7",
   "metadata": {},
   "outputs": [],
   "source": [
    "x2[:3, ::2]"
   ]
  },
  {
   "cell_type": "code",
   "execution_count": null,
   "id": "9f1f665a-3b7a-4ff2-87fb-fc302417110c",
   "metadata": {},
   "outputs": [],
   "source": [
    "x2[::-1, ::-1]"
   ]
  },
  {
   "cell_type": "markdown",
   "id": "5650e7fe-6bdf-4f61-b668-fb26a0eddb7e",
   "metadata": {},
   "source": [
    "### Accessing array rows and columns\n",
    "\n",
    "One commonly needed routine is accessing single rows or columns of an array. This can be done by combining indexing and slicing, using an empty slice marked by a single colon (`:`): "
   ]
  },
  {
   "cell_type": "code",
   "execution_count": null,
   "id": "c0e7c7fd-55d6-4b1c-a6a7-cb45dfff79f3",
   "metadata": {},
   "outputs": [],
   "source": [
    "x2[:,0]"
   ]
  },
  {
   "cell_type": "code",
   "execution_count": null,
   "id": "aea0d613-967f-46c2-9855-a2b0f0debb29",
   "metadata": {},
   "outputs": [],
   "source": [
    "x2[0,:]"
   ]
  },
  {
   "cell_type": "markdown",
   "id": "1b664432-ffaf-44c0-b516-56c30e0ef1ba",
   "metadata": {},
   "source": [
    "In the case of row access, the empty slice can be omitted for a more compact syntax:"
   ]
  },
  {
   "cell_type": "code",
   "execution_count": null,
   "id": "6d2cca80-2f00-4f33-b861-f65ad233e6f8",
   "metadata": {},
   "outputs": [],
   "source": [
    "x2[0]"
   ]
  },
  {
   "cell_type": "markdown",
   "id": "d06a92f6-98c9-4215-a87d-cb8f50790603",
   "metadata": {},
   "source": [
    "### Subarrays as No-Copy Views\n",
    "\n",
    "Unlike Python list slices, NumPy array slices are returned as **views** rather than **copies** of the array data. Consider our two-dimensional array from before:"
   ]
  },
  {
   "cell_type": "raw",
   "id": "1e675cab-9f69-4dea-a4a7-aafb67eccaec",
   "metadata": {},
   "source": [
    "print(x2)"
   ]
  },
  {
   "cell_type": "markdown",
   "id": "65e958e8-0e54-47fb-b7ac-d93ca7324179",
   "metadata": {},
   "source": [
    "Let's extract a $2 \\times 2$ "
   ]
  },
  {
   "cell_type": "code",
   "execution_count": 7,
   "id": "615121ff-c850-44ea-8bef-1b10f9a45789",
   "metadata": {},
   "outputs": [
    {
     "name": "stdout",
     "output_type": "stream",
     "text": [
      "[[3 1]\n",
      " [4 0]]\n"
     ]
    }
   ],
   "source": [
    "x2_sub = x2[:2,:2]\n",
    "print(x2_sub)"
   ]
  },
  {
   "cell_type": "markdown",
   "id": "946538c6-cfdf-4f30-83b6-1f512d8b40e7",
   "metadata": {},
   "source": [
    "Now if we modify this subarray, we'll see that the original array is changed!"
   ]
  },
  {
   "cell_type": "code",
   "execution_count": 8,
   "id": "65c1e043-424b-4017-9ec4-0c5ce48f9ef8",
   "metadata": {},
   "outputs": [
    {
     "name": "stdout",
     "output_type": "stream",
     "text": [
      "[[99  1]\n",
      " [ 4  0]]\n"
     ]
    }
   ],
   "source": [
    "x2_sub[0,0] = 99\n",
    "print(x2_sub)"
   ]
  },
  {
   "cell_type": "code",
   "execution_count": 9,
   "id": "95ddfcb1-7555-494f-9485-22a0317b3b7a",
   "metadata": {},
   "outputs": [
    {
     "name": "stdout",
     "output_type": "stream",
     "text": [
      "[[99  1  3  7]\n",
      " [ 4  0  2  3]\n",
      " [ 0  0  6  9]]\n"
     ]
    }
   ],
   "source": [
    "print(x2)"
   ]
  },
  {
   "cell_type": "markdown",
   "id": "9e1a0d71-7a56-4e10-8ede-1d85493ce4d5",
   "metadata": {},
   "source": [
    "### Creating Copies of Arrays\n",
    "\n",
    "Despite the nice features of array views, it is sometimes useful to instead explicitly copy the data within an array or a subarray. This can be most easily done with the `copy` method:"
   ]
  },
  {
   "cell_type": "code",
   "execution_count": null,
   "id": "93c536e7-2b20-495e-9132-c6cd406549bc",
   "metadata": {},
   "outputs": [],
   "source": [
    "x2_sub_copy = x2[:2, :2].copy()\n",
    "print(x2_sub_copy)"
   ]
  },
  {
   "cell_type": "markdown",
   "id": "1a754d1f-86ec-49b6-8225-abfaebaff9d5",
   "metadata": {},
   "source": [
    "If we now modify this subarray, the original array is not touched:"
   ]
  },
  {
   "cell_type": "code",
   "execution_count": null,
   "id": "05a99dd3-fbdf-4ca7-b36c-ceb2f8a05f5c",
   "metadata": {},
   "outputs": [],
   "source": [
    "x2_sub_copy[0,0] = 42\n",
    "print(x2_sub_copy)"
   ]
  },
  {
   "cell_type": "code",
   "execution_count": null,
   "id": "ace5c5be-1856-4b31-a4b3-8e5e3dba4f8c",
   "metadata": {},
   "outputs": [],
   "source": [
    "print(x2)"
   ]
  },
  {
   "cell_type": "markdown",
   "id": "a31fcd69-518a-4908-9391-e4fd2f0f2025",
   "metadata": {},
   "source": [
    "## Reshaping of Arrays\n",
    "\n",
    "Another useful type of operation is reshaping of arrays, which can be done with the `reshape` method. For example, if you want to pu the numbers 1 through 9 in a $3 \\times 3$ grid, you can do the following:"
   ]
  },
  {
   "cell_type": "code",
   "execution_count": null,
   "id": "94df2dd0-a67e-42ef-a204-c188eb3a808b",
   "metadata": {},
   "outputs": [],
   "source": [
    "grid = np.arrange(1,10).reshape(3,3)\n",
    "print(grid)"
   ]
  },
  {
   "cell_type": "markdown",
   "id": "d83b2a4b-0008-4d84-8ecc-c6249df85307",
   "metadata": {},
   "source": [
    "Note that for this to work, the size of the initial array must match the size of the reshaped array, and in most cases the `reshape` method will return a no-copy view of the initial array.\n",
    "\n",
    "A common reshaping operation is converting a one-dimentional array into a two-dimentional row or column matrix:\n"
   ]
  },
  {
   "cell_type": "code",
   "execution_count": 21,
   "id": "8cde29eb-a834-4262-b9da-9c03c757e26b",
   "metadata": {},
   "outputs": [
    {
     "data": {
      "text/plain": [
       "array([[1],\n",
       "       [2],\n",
       "       [3]])"
      ]
     },
     "execution_count": 21,
     "metadata": {},
     "output_type": "execute_result"
    }
   ],
   "source": [
    "x = np.array([1,2,3]) \n",
    "x.reshape((3,1))"
   ]
  },
  {
   "cell_type": "code",
   "execution_count": 24,
   "id": "d162d531-ba94-4ed6-88e2-c6748f09c641",
   "metadata": {},
   "outputs": [
    {
     "data": {
      "text/plain": [
       "np.int64(2)"
      ]
     },
     "execution_count": 24,
     "metadata": {},
     "output_type": "execute_result"
    }
   ],
   "source": [
    "x[np.newaxis,:]"
   ]
  },
  {
   "cell_type": "markdown",
   "id": "73048f5d-3235-4b42-bb13-2ce08ba083e0",
   "metadata": {},
   "source": [
    "## Array Concatenation and Splitting\n",
    "\n",
    "NumPy also provides tools to combine multiple arrays into one, and to conversely split a single array into multiple arrays.\n",
    "\n",
    "### Concatenation of Arrays\n",
    "\n",
    "concatenation, or joining of two arrays in NumPy, is primarily accomplished using the routines `np.concatenate`, `np.vstack`, and `np.hstack`."
   ]
  },
  {
   "cell_type": "code",
   "execution_count": 25,
   "id": "b698a405-a4a4-437c-a65b-283cbdd52b63",
   "metadata": {},
   "outputs": [
    {
     "data": {
      "text/plain": [
       "array([1, 2, 3, 3, 2, 1])"
      ]
     },
     "execution_count": 25,
     "metadata": {},
     "output_type": "execute_result"
    }
   ],
   "source": [
    "x = np.array([1,2,3])\n",
    "y = np.array([3,2,1])\n",
    "np.concatenate([x,y])"
   ]
  },
  {
   "cell_type": "markdown",
   "id": "345f11b9-e92c-4f84-a9f4-29c0550f9914",
   "metadata": {},
   "source": [
    "And it can be used for two-dimentional arrays:"
   ]
  },
  {
   "cell_type": "code",
   "execution_count": 26,
   "id": "4b67c68c-c48c-4da6-b7a6-e3660a9745c1",
   "metadata": {},
   "outputs": [],
   "source": [
    "grid = np.array([[1,2,3],[4,5,6]])\n"
   ]
  },
  {
   "cell_type": "code",
   "execution_count": 28,
   "id": "f8e8b01f-36a0-479d-a934-de9f3d61c4a3",
   "metadata": {},
   "outputs": [
    {
     "data": {
      "text/plain": [
       "array([[1, 2, 3],\n",
       "       [4, 5, 6],\n",
       "       [1, 2, 3],\n",
       "       [4, 5, 6]])"
      ]
     },
     "execution_count": 28,
     "metadata": {},
     "output_type": "execute_result"
    }
   ],
   "source": [
    "np.concatenate([grid, grid])"
   ]
  },
  {
   "cell_type": "markdown",
   "id": "f722a481-072e-4490-94a8-6ce3f2d987a1",
   "metadata": {},
   "source": [
    "Concatenate along the second axis (zero-indexed)\n"
   ]
  },
  {
   "cell_type": "code",
   "execution_count": 29,
   "id": "bda5b2ea-914d-42ea-a4a9-80c7c7b5de86",
   "metadata": {},
   "outputs": [
    {
     "data": {
      "text/plain": [
       "array([[1, 2, 3, 1, 2, 3],\n",
       "       [4, 5, 6, 4, 5, 6]])"
      ]
     },
     "execution_count": 29,
     "metadata": {},
     "output_type": "execute_result"
    }
   ],
   "source": [
    "np.concatenate([grid,grid], axis = 1)"
   ]
  },
  {
   "cell_type": "markdown",
   "id": "4b0639d3-3356-43fe-b05b-04ff44574b06",
   "metadata": {},
   "source": [
    "For working with arrays of mixed dimensions, it can be clearer to use the `np.vstack` (vertical stack) and `np.hstack` (horizontal stack) functions:"
   ]
  },
  {
   "cell_type": "code",
   "execution_count": null,
   "id": "b91c00ad-def4-4455-b782-684cb82bf296",
   "metadata": {},
   "outputs": [],
   "source": [
    "np.vstack([])"
   ]
  }
 ],
 "metadata": {
  "kernelspec": {
   "display_name": "Python 3 (ipykernel)",
   "language": "python",
   "name": "python3"
  },
  "language_info": {
   "codemirror_mode": {
    "name": "ipython",
    "version": 3
   },
   "file_extension": ".py",
   "mimetype": "text/x-python",
   "name": "python",
   "nbconvert_exporter": "python",
   "pygments_lexer": "ipython3",
   "version": "3.12.3"
  }
 },
 "nbformat": 4,
 "nbformat_minor": 5
}
